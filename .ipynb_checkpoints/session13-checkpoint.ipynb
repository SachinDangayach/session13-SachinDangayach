{
 "cells": [
  {
   "cell_type": "markdown",
   "metadata": {},
   "source": [
    "## Submission for Assigment 13 ( Regular Polygon Class )\n"
   ]
  },
  {
   "cell_type": "code",
   "execution_count": 25,
   "metadata": {},
   "outputs": [],
   "source": [
    "import numbers\n",
    "import regular_poly as rp\n",
    "import regular_poly_seq as ps"
   ]
  },
  {
   "cell_type": "markdown",
   "metadata": {},
   "source": [
    "## Part A\n",
    "### A regular strictly convex polygon is a polygon that has the following characteristics:\n",
    "### Create a Polygon Class\n",
    ">> 1. all interior angles are less than 180\n",
    ">> 2. all sides have equal length\n",
    "### For a regular strictly convex polygon with:\n",
    ">> 1. n edges (=n vertices)\n",
    ">> 2. R circumradius\n",
    ">> 3. interiorAngle=(n−2)⋅180n\n",
    ">> 4. edgeLength,s=2⋅R⋅sin(πn)\n",
    ">> 5. apothem,a=R⋅cos(πn)\n",
    ">> 6. area=12⋅n⋅s⋅a\n",
    ">> 7. perimeter=n⋅s"
   ]
  },
  {
   "cell_type": "markdown",
   "metadata": {},
   "source": [
    "### Create Polygon Class object with -\n",
    "#### 1. number of edges/vertices\n",
    "#### 2. circumradius"
   ]
  },
  {
   "cell_type": "code",
   "execution_count": 4,
   "metadata": {},
   "outputs": [],
   "source": [
    "square = rp.RegularPoly(4,4)"
   ]
  },
  {
   "cell_type": "markdown",
   "metadata": {},
   "source": [
    "#### Test \\_\\_repr__ function"
   ]
  },
  {
   "cell_type": "code",
   "execution_count": 9,
   "metadata": {},
   "outputs": [
    {
     "data": {
      "text/plain": [
       "'RegularPoly(4, 4)'"
      ]
     },
     "execution_count": 9,
     "metadata": {},
     "output_type": "execute_result"
    }
   ],
   "source": [
    "# Test __repr__ function\n",
    "square.__repr__()"
   ]
  },
  {
   "cell_type": "markdown",
   "metadata": {},
   "source": [
    "#### Test \\_\\_str__ function"
   ]
  },
  {
   "cell_type": "code",
   "execution_count": 10,
   "metadata": {},
   "outputs": [
    {
     "name": "stdout",
     "output_type": "stream",
     "text": [
      "Regular Polygon:-\n",
      " number of vertices = 4,\n",
      " radius = 4,                  \n",
      " interior angle = 114.59155902616465, \n",
      " edge length = 5.656854249492381,                  \n",
      " apothem = 114.59155902616465, \n",
      " area = 1296.455495266233, \n",
      " perimeter = 22.627416997969522\n"
     ]
    }
   ],
   "source": [
    "# Test __str__ function\n",
    "print(square)"
   ]
  },
  {
   "cell_type": "code",
   "execution_count": 11,
   "metadata": {},
   "outputs": [],
   "source": [
    "# Create triangle\n",
    "triangle = rp.RegularPoly(3,3)"
   ]
  },
  {
   "cell_type": "code",
   "execution_count": 12,
   "metadata": {},
   "outputs": [
    {
     "name": "stdout",
     "output_type": "stream",
     "text": [
      "Regular Polygon:-\n",
      " number of vertices = 3,\n",
      " radius = 3,                  \n",
      " interior angle = 57.29577951308232, \n",
      " edge length = 5.196152422706632,                  \n",
      " apothem = 57.29577951308232, \n",
      " area = 446.5764052916516, \n",
      " perimeter = 15.588457268119896\n"
     ]
    }
   ],
   "source": [
    "print(triangle)"
   ]
  },
  {
   "cell_type": "markdown",
   "metadata": {},
   "source": [
    "#### Test equality (==) based on # vertices and circumradius (\\_\\_eq__)"
   ]
  },
  {
   "cell_type": "code",
   "execution_count": 13,
   "metadata": {},
   "outputs": [
    {
     "data": {
      "text/plain": [
       "False"
      ]
     },
     "execution_count": 13,
     "metadata": {},
     "output_type": "execute_result"
    }
   ],
   "source": [
    "# equality (==) based on # vertices and circumradius (__eq__)\n",
    "square == triangle"
   ]
  },
  {
   "cell_type": "code",
   "execution_count": 17,
   "metadata": {},
   "outputs": [],
   "source": [
    "# Poly with 4 vertices and Circum Radius 4\n",
    "sqr2 = rp.RegularPoly(4,4)"
   ]
  },
  {
   "cell_type": "code",
   "execution_count": 18,
   "metadata": {},
   "outputs": [
    {
     "data": {
      "text/plain": [
       "True"
      ]
     },
     "execution_count": 18,
     "metadata": {},
     "output_type": "execute_result"
    }
   ],
   "source": [
    "square == sqr2"
   ]
  },
  {
   "cell_type": "markdown",
   "metadata": {},
   "source": [
    "#### Test > based on number of vertices only (\\_\\_gt__)"
   ]
  },
  {
   "cell_type": "code",
   "execution_count": 19,
   "metadata": {},
   "outputs": [
    {
     "data": {
      "text/plain": [
       "False"
      ]
     },
     "execution_count": 19,
     "metadata": {},
     "output_type": "execute_result"
    }
   ],
   "source": [
    "# > based on number of vertices only (__gt__)\n",
    "triangle > square"
   ]
  },
  {
   "cell_type": "code",
   "execution_count": 20,
   "metadata": {},
   "outputs": [
    {
     "data": {
      "text/plain": [
       "True"
      ]
     },
     "execution_count": 20,
     "metadata": {},
     "output_type": "execute_result"
    }
   ],
   "source": [
    "sqr2 > triangle"
   ]
  },
  {
   "cell_type": "markdown",
   "metadata": {},
   "source": [
    "## Part 2\n",
    "### 1. Implement a Custom Polygon sequence type:\n",
    "### where initializer takes in:\n",
    "> 1. number of vertices for largest polygon in the sequence\n",
    "> 2. common circumradius for all polygons\n",
    "### 2. that can provide these properties:\n",
    "> 1. max efficiency polygon: returns the Polygon with the highest area: perimeter ratio\n",
    "### 3. that has these functionalities:\n",
    "> 1. functions as a sequence type (\\_\\_getitem__)\n",
    "> 2. supports the len() function (\\_\\_len__)\n",
    "> 3. has a proper representation (\\_\\_repr__)"
   ]
  },
  {
   "cell_type": "code",
   "execution_count": null,
   "metadata": {},
   "outputs": [],
   "source": []
  }
 ],
 "metadata": {
  "kernelspec": {
   "display_name": "Python 3",
   "language": "python",
   "name": "python3"
  },
  "language_info": {
   "codemirror_mode": {
    "name": "ipython",
    "version": 3
   },
   "file_extension": ".py",
   "mimetype": "text/x-python",
   "name": "python",
   "nbconvert_exporter": "python",
   "pygments_lexer": "ipython3",
   "version": "3.7.7"
  }
 },
 "nbformat": 4,
 "nbformat_minor": 4
}
